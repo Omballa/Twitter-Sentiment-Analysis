{
 "cells": [
  {
   "cell_type": "markdown",
   "metadata": {},
   "source": [
    "## Twitter sentiment Analysis\n"
   ]
  },
  {
   "cell_type": "markdown",
   "metadata": {},
   "source": [
    "### Project Overview\n",
    "\n",
    "In a dynamic digital landscape, understanding public sentiment towards technology giants like Apple and Google is paramount. This project aims to harness the power of Natural Language Processing (NLP) to conduct a comprehensive sentiment analysis of tweets related to their products. By leveraging a dataset containing over 9,000 manually annotated tweets, we seek to create a robust model that discerns sentiments as positive, negative, or neutral. The multifaceted nature of this analysis offers valuable insights for businesses, marketing strategists, and researchers invested in the consumer electronics domain.\n",
    "\n",
    "### Business Understanding\n",
    "\n",
    "In the era of social media dominance, the reputation and perception of tech companies can be heavily influenced by user-generated content. Understanding the sentiment expressed on platforms like Twitter provides a unique opportunity to gauge public perception, inform strategic decisions, and enhance customer engagement strategies. By delving into the sentiment surrounding Apple and Google products, businesses can gain actionable insights, refine their marketing approaches, and maintain a pulse on the evolving consumer landscape.\n",
    "\n",
    "### Objectives:\n",
    "\n",
    "1. Initiate the project with a focused binary classifier to distinguish positive and negative sentiments. Gradually extend the model's capabilities to handle neutral sentiments, ensuring a robust multiclass classification system(Proof of Concept).\n",
    "\n",
    "2. Develop a sophisticated NLP model capable of accurately classifying tweet sentiments as positive, negative, or neutral, providing nuanced insights into the public's opinions(Sentiment Analysis).\n",
    "\n",
    "3. Continuously refine the model's architecture and parameters, drawing inspiration from advanced NLP techniques documented in the Mod 4 Appendix. This iterative approach ensures optimal performance and adaptability to the evolving landscape of social media language(Model Iteration)\n"
   ]
  },
  {
   "cell_type": "markdown",
   "metadata": {},
   "source": [
    "Importing the necessary libraries."
   ]
  },
  {
   "cell_type": "code",
   "execution_count": 1,
   "metadata": {},
   "outputs": [],
   "source": [
    "import pandas as pd\n",
    "import seaborn as sns\n",
    "import matplotlib.pyplot as plt\n",
    "import numpy as np\n",
    "import nltk\n",
    "import re\n",
    "\n",
    "from nltk.corpus import words\n",
    "from nltk.corpus import stopwords\n",
    "from sklearn.model_selection import train_test_split\n",
    "from sklearn.feature_extraction.text import TfidfVectorizer\n",
    "from sklearn.linear_model import LogisticRegression\n",
    "from sklearn.metrics import accuracy_score, classification_report\n",
    "from sklearn.naive_bayes import MultinomialNB\n",
    "from sklearn.svm import SVC\n",
    "\n",
    "%matplotlib inline"
   ]
  },
  {
   "cell_type": "markdown",
   "metadata": {},
   "source": [
    "Functions used in the project:"
   ]
  },
  {
   "cell_type": "code",
   "execution_count": 2,
   "metadata": {},
   "outputs": [],
   "source": [
    "def load_csv_to_dataframe(file_path):\n",
    "    \"\"\"\n",
    "    Load a CSV file into a pandas DataFrame.\n",
    "\n",
    "    Parameters:\n",
    "    - file_path (str): The path to the CSV file.\n",
    "\n",
    "    Returns:\n",
    "    - pd.DataFrame: The loaded DataFrame.\n",
    "    \"\"\"\n",
    "    df = pd.read_csv(file_path, encoding='latin-1')\n",
    "    return df\n",
    "\n",
    "def dataframe_preview(dataframe):\n",
    "    #To get the shape of the dataframe\n",
    "    print(\"The shape of the dataframe:\")\n",
    "    print(dataframe.shape)\n",
    "    print('\\n')\n",
    "    #Describe the dataframe\n",
    "    print(\"Describing the dataframe:\")\n",
    "    print(dataframe.describe())\n",
    "    print('\\n')\n",
    "    #checking the columns in the dataset\n",
    "    print(\"Columns in the dataset:\")\n",
    "    print(dataframe.columns)\n",
    "    print('\\n')\n",
    "    #To get the info of the dataframe\n",
    "    print(\"The data in the dataframe:\")\n",
    "    print(dataframe.info())\n",
    "    print('\\n')\n",
    "\n",
    "def clean_tweet_text(text):\n",
    "    try:\n",
    "        cleaned_text = re.sub(r'@\\w+', '', str(text))\n",
    "        cleaned_text = re.sub(r'http\\S+|www\\S+|[^a-zA-Z\\s]', '', cleaned_text)\n",
    "        cleaned_text = cleaned_text.encode('ascii', 'ignore').decode()\n",
    "        return cleaned_text\n",
    "    except Exception as e:\n",
    "        print(f\"Error processing text: {text}. Error: {e}\")\n",
    "        return text\n",
    "\n",
    "def extract_hashtag_words(text):\n",
    "    try:\n",
    "        hashtags = re.findall(r'#(\\w+)', text)\n",
    "        h = ''\n",
    "        for hashtag in hashtags:\n",
    "            h += str(hashtag) + ','\n",
    "        return h.lower()\n",
    "    except Exception as e:\n",
    "        print(f\"Error processing text: {text}. Error: {e}\")\n",
    "        return text\n",
    "\n"
   ]
  },
  {
   "cell_type": "markdown",
   "metadata": {},
   "source": [
    "## Data understanding"
   ]
  },
  {
   "cell_type": "markdown",
   "metadata": {},
   "source": [
    "### Loading data\n",
    "In this section, we will upload data and conduct surface analysis whereby we will check  the shape,check for null values"
   ]
  },
  {
   "cell_type": "code",
   "execution_count": 3,
   "metadata": {},
   "outputs": [
    {
     "name": "stdout",
     "output_type": "stream",
     "text": [
      "                                             tweet_text  \\\n",
      "0     .@wesley83 I have a 3G iPhone. After 3 hrs twe...   \n",
      "1     @jessedee Know about @fludapp ? Awesome iPad/i...   \n",
      "2     @swonderlin Can not wait for #iPad 2 also. The...   \n",
      "3     @sxsw I hope this year's festival isn't as cra...   \n",
      "4     @sxtxstate great stuff on Fri #SXSW: Marissa M...   \n",
      "...                                                 ...   \n",
      "9088                      Ipad everywhere. #SXSW {link}   \n",
      "9089  Wave, buzz... RT @mention We interrupt your re...   \n",
      "9090  Google's Zeiger, a physician never reported po...   \n",
      "9091  Some Verizon iPhone customers complained their...   \n",
      "9092  Ï¡Ïàü_ÊÎÒ£Áââ_£â_ÛâRT @...   \n",
      "\n",
      "     emotion_in_tweet_is_directed_at  \\\n",
      "0                             iPhone   \n",
      "1                 iPad or iPhone App   \n",
      "2                               iPad   \n",
      "3                 iPad or iPhone App   \n",
      "4                             Google   \n",
      "...                              ...   \n",
      "9088                            iPad   \n",
      "9089                             NaN   \n",
      "9090                             NaN   \n",
      "9091                             NaN   \n",
      "9092                             NaN   \n",
      "\n",
      "     is_there_an_emotion_directed_at_a_brand_or_product  \n",
      "0                                      Negative emotion  \n",
      "1                                      Positive emotion  \n",
      "2                                      Positive emotion  \n",
      "3                                      Negative emotion  \n",
      "4                                      Positive emotion  \n",
      "...                                                 ...  \n",
      "9088                                   Positive emotion  \n",
      "9089                 No emotion toward brand or product  \n",
      "9090                 No emotion toward brand or product  \n",
      "9091                 No emotion toward brand or product  \n",
      "9092                 No emotion toward brand or product  \n",
      "\n",
      "[9093 rows x 3 columns]\n"
     ]
    }
   ],
   "source": [
    "# Replace 'your_file.csv' with the actual path to your CSV file\n",
    "file_path = 'tweet_product_company.csv'\n",
    "\n",
    "# Load the CSV file into a pandas DataFrame\n",
    "df = load_csv_to_dataframe(file_path)\n",
    "\n",
    "# Display the DataFrame\n",
    "print(df)"
   ]
  },
  {
   "cell_type": "code",
   "execution_count": 4,
   "metadata": {},
   "outputs": [
    {
     "name": "stdout",
     "output_type": "stream",
     "text": [
      "The shape of the dataframe:\n",
      "(9093, 3)\n",
      "\n",
      "\n",
      "Describing the dataframe:\n",
      "                                               tweet_text  \\\n",
      "count                                                9092   \n",
      "unique                                               9065   \n",
      "top     RT @mention Marissa Mayer: Google Will Connect...   \n",
      "freq                                                    5   \n",
      "\n",
      "       emotion_in_tweet_is_directed_at  \\\n",
      "count                             3291   \n",
      "unique                               9   \n",
      "top                               iPad   \n",
      "freq                               946   \n",
      "\n",
      "       is_there_an_emotion_directed_at_a_brand_or_product  \n",
      "count                                                9093  \n",
      "unique                                                  4  \n",
      "top                    No emotion toward brand or product  \n",
      "freq                                                 5389  \n",
      "\n",
      "\n",
      "Columns in the dataset:\n",
      "Index(['tweet_text', 'emotion_in_tweet_is_directed_at',\n",
      "       'is_there_an_emotion_directed_at_a_brand_or_product'],\n",
      "      dtype='object')\n",
      "\n",
      "\n",
      "The data in the dataframe:\n",
      "<class 'pandas.core.frame.DataFrame'>\n",
      "RangeIndex: 9093 entries, 0 to 9092\n",
      "Data columns (total 3 columns):\n",
      " #   Column                                              Non-Null Count  Dtype \n",
      "---  ------                                              --------------  ----- \n",
      " 0   tweet_text                                          9092 non-null   object\n",
      " 1   emotion_in_tweet_is_directed_at                     3291 non-null   object\n",
      " 2   is_there_an_emotion_directed_at_a_brand_or_product  9093 non-null   object\n",
      "dtypes: object(3)\n",
      "memory usage: 213.2+ KB\n",
      "None\n",
      "\n",
      "\n"
     ]
    }
   ],
   "source": [
    "#Call function to preview the data\n",
    "dataframe_preview(df)"
   ]
  },
  {
   "cell_type": "markdown",
   "metadata": {},
   "source": [
    "## Data cleaning"
   ]
  },
  {
   "cell_type": "markdown",
   "metadata": {},
   "source": [
    "We will now proceed to cleaning the data.This involves removing duplicates and droping null values which were observed above. We will also try to extract all usefull information from the tweet removing unneccessary characters like usernames, links and special characters."
   ]
  },
  {
   "cell_type": "code",
   "execution_count": 5,
   "metadata": {},
   "outputs": [],
   "source": [
    "#Dropping duplicate entries in the tweet_text column\n",
    "df.drop_duplicates(subset='tweet_text', keep='first', inplace=True)\n"
   ]
  },
  {
   "cell_type": "code",
   "execution_count": 6,
   "metadata": {},
   "outputs": [
    {
     "name": "stdout",
     "output_type": "stream",
     "text": [
      "The shape of the dataframe:\n",
      "(9066, 3)\n",
      "\n",
      "\n",
      "Describing the dataframe:\n",
      "                                               tweet_text  \\\n",
      "count                                                9065   \n",
      "unique                                               9065   \n",
      "top     .@wesley83 I have a 3G iPhone. After 3 hrs twe...   \n",
      "freq                                                    1   \n",
      "\n",
      "       emotion_in_tweet_is_directed_at  \\\n",
      "count                             3280   \n",
      "unique                               9   \n",
      "top                               iPad   \n",
      "freq                               943   \n",
      "\n",
      "       is_there_an_emotion_directed_at_a_brand_or_product  \n",
      "count                                                9066  \n",
      "unique                                                  4  \n",
      "top                    No emotion toward brand or product  \n",
      "freq                                                 5373  \n",
      "\n",
      "\n",
      "Columns in the dataset:\n",
      "Index(['tweet_text', 'emotion_in_tweet_is_directed_at',\n",
      "       'is_there_an_emotion_directed_at_a_brand_or_product'],\n",
      "      dtype='object')\n",
      "\n",
      "\n",
      "The data in the dataframe:\n",
      "<class 'pandas.core.frame.DataFrame'>\n",
      "Index: 9066 entries, 0 to 9092\n",
      "Data columns (total 3 columns):\n",
      " #   Column                                              Non-Null Count  Dtype \n",
      "---  ------                                              --------------  ----- \n",
      " 0   tweet_text                                          9065 non-null   object\n",
      " 1   emotion_in_tweet_is_directed_at                     3280 non-null   object\n",
      " 2   is_there_an_emotion_directed_at_a_brand_or_product  9066 non-null   object\n",
      "dtypes: object(3)\n",
      "memory usage: 283.3+ KB\n",
      "None\n",
      "\n",
      "\n"
     ]
    }
   ],
   "source": [
    "# Check the dataframe\n",
    "dataframe_preview(df)"
   ]
  },
  {
   "cell_type": "code",
   "execution_count": 7,
   "metadata": {},
   "outputs": [
    {
     "name": "stdout",
     "output_type": "stream",
     "text": [
      "tweet_text                                               1\n",
      "emotion_in_tweet_is_directed_at                       5786\n",
      "is_there_an_emotion_directed_at_a_brand_or_product       0\n",
      "dtype: int64\n"
     ]
    }
   ],
   "source": [
    "#checking for total null values for each column in the dataset\n",
    "missing_values = df.isnull().sum()\n",
    "\n",
    "print(missing_values)"
   ]
  },
  {
   "cell_type": "code",
   "execution_count": 8,
   "metadata": {},
   "outputs": [],
   "source": [
    "#Drop the null values\n",
    "df = df.dropna(subset=['tweet_text'])"
   ]
  },
  {
   "cell_type": "code",
   "execution_count": 9,
   "metadata": {},
   "outputs": [
    {
     "name": "stdout",
     "output_type": "stream",
     "text": [
      "tweet_text                                               0\n",
      "emotion_in_tweet_is_directed_at                       5785\n",
      "is_there_an_emotion_directed_at_a_brand_or_product       0\n",
      "dtype: int64\n"
     ]
    }
   ],
   "source": [
    "#Check if all missing values are dropped.\n",
    "missing_values = df.isnull().sum()\n",
    "\n",
    "print(missing_values)"
   ]
  },
  {
   "cell_type": "markdown",
   "metadata": {},
   "source": [
    "This code uses regular expressions to replace user mentions, remove links, and non-alphanumeric characters. If you want to retain hashtags, you can uncomment the 'hashtags' line. Adjustments can be made based on specific cleaning requirements."
   ]
  },
  {
   "cell_type": "code",
   "execution_count": 10,
   "metadata": {},
   "outputs": [
    {
     "data": {
      "text/plain": [
       "' I have a G iPhone After  hrs tweeting at RISEAustin it was dead  I need to upgrade Plugin stations at SXSW'"
      ]
     },
     "execution_count": 10,
     "metadata": {},
     "output_type": "execute_result"
    }
   ],
   "source": [
    "# Assuming 'df' is the DataFrame containing the dataset\n",
    "df['clean_text'] = df['tweet_text'].apply(clean_tweet_text)\n",
    "df['hashtags'] = df['tweet_text'].apply(extract_hashtag_words)\n",
    "\n",
    "df['clean_text'][0]\n"
   ]
  },
  {
   "cell_type": "code",
   "execution_count": 11,
   "metadata": {
    "scrolled": false
   },
   "outputs": [
    {
     "data": {
      "text/html": [
       "<div>\n",
       "<style scoped>\n",
       "    .dataframe tbody tr th:only-of-type {\n",
       "        vertical-align: middle;\n",
       "    }\n",
       "\n",
       "    .dataframe tbody tr th {\n",
       "        vertical-align: top;\n",
       "    }\n",
       "\n",
       "    .dataframe thead th {\n",
       "        text-align: right;\n",
       "    }\n",
       "</style>\n",
       "<table border=\"1\" class=\"dataframe\">\n",
       "  <thead>\n",
       "    <tr style=\"text-align: right;\">\n",
       "      <th></th>\n",
       "      <th>tweet_text</th>\n",
       "      <th>emotion_in_tweet_is_directed_at</th>\n",
       "      <th>is_there_an_emotion_directed_at_a_brand_or_product</th>\n",
       "      <th>clean_text</th>\n",
       "      <th>hashtags</th>\n",
       "    </tr>\n",
       "  </thead>\n",
       "  <tbody>\n",
       "    <tr>\n",
       "      <th>0</th>\n",
       "      <td>.@wesley83 I have a 3G iPhone. After 3 hrs twe...</td>\n",
       "      <td>iPhone</td>\n",
       "      <td>Negative emotion</td>\n",
       "      <td>I have a G iPhone After  hrs tweeting at RISE...</td>\n",
       "      <td>rise_austin,sxsw,</td>\n",
       "    </tr>\n",
       "    <tr>\n",
       "      <th>1</th>\n",
       "      <td>@jessedee Know about @fludapp ? Awesome iPad/i...</td>\n",
       "      <td>iPad or iPhone App</td>\n",
       "      <td>Positive emotion</td>\n",
       "      <td>Know about   Awesome iPadiPhone app that youl...</td>\n",
       "      <td>sxsw,</td>\n",
       "    </tr>\n",
       "    <tr>\n",
       "      <th>2</th>\n",
       "      <td>@swonderlin Can not wait for #iPad 2 also. The...</td>\n",
       "      <td>iPad</td>\n",
       "      <td>Positive emotion</td>\n",
       "      <td>Can not wait for iPad  also They should sale ...</td>\n",
       "      <td>ipad,sxsw,</td>\n",
       "    </tr>\n",
       "    <tr>\n",
       "      <th>3</th>\n",
       "      <td>@sxsw I hope this year's festival isn't as cra...</td>\n",
       "      <td>iPad or iPhone App</td>\n",
       "      <td>Negative emotion</td>\n",
       "      <td>I hope this years festival isnt as crashy as ...</td>\n",
       "      <td>sxsw,</td>\n",
       "    </tr>\n",
       "    <tr>\n",
       "      <th>4</th>\n",
       "      <td>@sxtxstate great stuff on Fri #SXSW: Marissa M...</td>\n",
       "      <td>Google</td>\n",
       "      <td>Positive emotion</td>\n",
       "      <td>great stuff on Fri SXSW Marissa Mayer Google ...</td>\n",
       "      <td>sxsw,</td>\n",
       "    </tr>\n",
       "  </tbody>\n",
       "</table>\n",
       "</div>"
      ],
      "text/plain": [
       "                                          tweet_text  \\\n",
       "0  .@wesley83 I have a 3G iPhone. After 3 hrs twe...   \n",
       "1  @jessedee Know about @fludapp ? Awesome iPad/i...   \n",
       "2  @swonderlin Can not wait for #iPad 2 also. The...   \n",
       "3  @sxsw I hope this year's festival isn't as cra...   \n",
       "4  @sxtxstate great stuff on Fri #SXSW: Marissa M...   \n",
       "\n",
       "  emotion_in_tweet_is_directed_at  \\\n",
       "0                          iPhone   \n",
       "1              iPad or iPhone App   \n",
       "2                            iPad   \n",
       "3              iPad or iPhone App   \n",
       "4                          Google   \n",
       "\n",
       "  is_there_an_emotion_directed_at_a_brand_or_product  \\\n",
       "0                                   Negative emotion   \n",
       "1                                   Positive emotion   \n",
       "2                                   Positive emotion   \n",
       "3                                   Negative emotion   \n",
       "4                                   Positive emotion   \n",
       "\n",
       "                                          clean_text           hashtags  \n",
       "0   I have a G iPhone After  hrs tweeting at RISE...  rise_austin,sxsw,  \n",
       "1   Know about   Awesome iPadiPhone app that youl...              sxsw,  \n",
       "2   Can not wait for iPad  also They should sale ...         ipad,sxsw,  \n",
       "3   I hope this years festival isnt as crashy as ...              sxsw,  \n",
       "4   great stuff on Fri SXSW Marissa Mayer Google ...              sxsw,  "
      ]
     },
     "execution_count": 11,
     "metadata": {},
     "output_type": "execute_result"
    }
   ],
   "source": [
    "df.head()"
   ]
  },
  {
   "cell_type": "markdown",
   "metadata": {},
   "source": [
    "### EDA"
   ]
  },
  {
   "cell_type": "code",
   "execution_count": 12,
   "metadata": {},
   "outputs": [
    {
     "name": "stdout",
     "output_type": "stream",
     "text": [
      "Distribution of 'tweet_text' values:\n",
      "tweet_text\n",
      ".@wesley83 I have a 3G iPhone. After 3 hrs tweeting at #RISE_Austin, it was dead!  I need to upgrade. Plugin stations at #SXSW.         1\n",
      "RT @mention I think #Google lost their way by caring too much about their business (instead of their users) Tim O'Reilly #sxsw #pnid    1\n",
      "RT @mention I just fell asleep for 2 hours with my eyes open, staring into the #SXSW stream on my iPad 2. {link}                        1\n",
      "RT @mention I just found BBQ sauce on my iPad - tech and Texas really do come together here!  #SXSW                                     1\n",
      "RT @mention I know it's #SXSW because my iPhone has started lying to me about its signal strength.                                      1\n",
      "                                                                                                                                       ..\n",
      "Apple Offers Up Free iTunes Sampler Ahead of #SXSW to feature new artists {link} via @mention #music                                    1\n",
      "Apple offers original iPad donation program {link} #entry #friends #house #sxsw                                                         1\n",
      "What matters most: {link} It's all in the title!!! #touchingstories #iPad and/or #tablet #SXSW                                          1\n",
      "iPhone users at #SXSW - any of you have your GPS stuck on? Is one of the new geo app updates doing it? FourSquare/gowalla?              1\n",
      "Ï¡Ïàü_ÊÎÒ£Áââ_£â_ÛâRT @mention Google Tests ÛÏCheck-in OffersÛ At #SXSW {link}                                1\n",
      "Name: count, Length: 9065, dtype: int64\n",
      "\n",
      "Distribution of 'emotion_in_tweet_is_directed_at' values:\n",
      "emotion_in_tweet_is_directed_at\n",
      "iPad                               943\n",
      "Apple                              659\n",
      "iPad or iPhone App                 469\n",
      "Google                             428\n",
      "iPhone                             296\n",
      "Other Google product or service    293\n",
      "Android App                         80\n",
      "Android                             77\n",
      "Other Apple product or service      35\n",
      "Name: count, dtype: int64\n",
      "\n",
      "Distribution of 'is_there_an_emotion_directed_at_a_brand_or_product' values:\n",
      "is_there_an_emotion_directed_at_a_brand_or_product\n",
      "No emotion toward brand or product    5372\n",
      "Positive emotion                      2968\n",
      "Negative emotion                       569\n",
      "I can't tell                           156\n",
      "Name: count, dtype: int64\n"
     ]
    }
   ],
   "source": [
    "# Explore 'tweet_text' column\n",
    "tweet_text_distribution = df['tweet_text'].value_counts()\n",
    "\n",
    "# Explore 'emotion_in_tweet_is_directed_at' column\n",
    "emotion_distribution = df['emotion_in_tweet_is_directed_at'].value_counts()\n",
    "\n",
    "# Explore 'is_there_an_emotion_directed_at_a_brand_or_product' column\n",
    "emotion_directed_at_distribution = df['is_there_an_emotion_directed_at_a_brand_or_product'].value_counts()\n",
    "\n",
    "# Display the distributions\n",
    "print(\"Distribution of 'tweet_text' values:\")\n",
    "print(tweet_text_distribution)\n",
    "\n",
    "print(\"\\nDistribution of 'emotion_in_tweet_is_directed_at' values:\")\n",
    "print(emotion_distribution)\n",
    "\n",
    "print(\"\\nDistribution of 'is_there_an_emotion_directed_at_a_brand_or_product' values:\")\n",
    "print(emotion_directed_at_distribution)"
   ]
  },
  {
   "cell_type": "code",
   "execution_count": 13,
   "metadata": {},
   "outputs": [
    {
     "data": {
      "image/png": "[encoded data removed]",
      "text/plain": [
       "<Figure size 1000x600 with 1 Axes>"
      ]
     },
     "metadata": {},
     "output_type": "display_data"
    },
    {
     "data": {
      "image/png": "[encoded data removed]",
      "text/plain": [
       "<Figure size 600x400 with 1 Axes>"
      ]
     },
     "metadata": {},
     "output_type": "display_data"
    }
   ],
   "source": [
    "import matplotlib.pyplot as plt\n",
    "\n",
    "# Bar chart for 'emotion_in_tweet_is_directed_at'\n",
    "plt.figure(figsize=(10, 6))\n",
    "emotion_distribution.plot(kind='bar')\n",
    "plt.title('Number of tweets per product/service.')\n",
    "plt.xlabel('Emotion')\n",
    "plt.ylabel('Frequency')\n",
    "plt.show()\n",
    "\n",
    "# Bar chart for 'is_there_an_emotion_directed_at_a_brand_or_product'\n",
    "plt.figure(figsize=(6, 4))\n",
    "emotion_directed_at_distribution.plot(kind='bar')\n",
    "plt.title('Distribution of Emotion Directed at Brands/Products')\n",
    "plt.xlabel('Emotion Directed at a Brand/Product')\n",
    "plt.ylabel('Frequency')\n",
    "plt.show()\n"
   ]
  },
  {
   "cell_type": "code",
   "execution_count": 14,
   "metadata": {},
   "outputs": [
    {
     "name": "stdout",
     "output_type": "stream",
     "text": [
      "\n",
      "Distribution of 'is_there_an_emotion_directed_at_a_brand_or_product' values:\n",
      "is_there_an_emotion_directed_at_a_brand_or_product\n",
      "No emotion toward brand or product    5372\n",
      "Positive emotion                      2968\n",
      "Negative emotion                       569\n",
      "I can't tell                           156\n",
      "Name: count, dtype: int64\n"
     ]
    }
   ],
   "source": [
    "\n",
    "print(\"\\nDistribution of 'is_there_an_emotion_directed_at_a_brand_or_product' values:\")\n",
    "print(emotion_directed_at_distribution)"
   ]
  },
  {
   "cell_type": "code",
   "execution_count": 15,
   "metadata": {},
   "outputs": [
    {
     "name": "stdout",
     "output_type": "stream",
     "text": [
      "is_there_an_emotion_directed_at_a_brand_or_product\n",
      "Neutral emotion     5528\n",
      "Positive emotion    2968\n",
      "Negative emotion     569\n",
      "Name: count, dtype: int64\n"
     ]
    }
   ],
   "source": [
    "# Assuming df is your DataFrame\n",
    "df['is_there_an_emotion_directed_at_a_brand_or_product'] = df['is_there_an_emotion_directed_at_a_brand_or_product'].replace({\n",
    "    \"I can't tell\": 'Neutral emotion',\n",
    "    'No emotion toward brand or product': 'Neutral emotion'\n",
    "})\n",
    "\n",
    "# Verify the changes\n",
    "print(df['is_there_an_emotion_directed_at_a_brand_or_product'].value_counts())"
   ]
  },
  {
   "cell_type": "code",
   "execution_count": 16,
   "metadata": {},
   "outputs": [
    {
     "data": {
      "image/png": "[encoded data removed]",
      "text/plain": [
       "<Figure size 1200x600 with 1 Axes>"
      ]
     },
     "metadata": {},
     "output_type": "display_data"
    }
   ],
   "source": [
    "# Explore 'emotion_in_tweet_is_directed_at' column\n",
    "emotion_distribution = df['emotion_in_tweet_is_directed_at'].value_counts()\n",
    "\n",
    "# Set the style of seaborn\n",
    "sns.set(style=\"whitegrid\")\n",
    "\n",
    "# Create a colorful count plot\n",
    "plt.figure(figsize=(12, 6))\n",
    "sns.countplot(x='emotion_in_tweet_is_directed_at', data=df, palette=\"viridis\")\n",
    "\n",
    "# Add labels and title\n",
    "plt.title('Distribution of Emotions Directed at Brands/Products')\n",
    "plt.xlabel('Emotion')\n",
    "plt.ylabel('Count')\n",
    "\n",
    "# Rotate x-axis labels for better readability\n",
    "plt.xticks(rotation=45, ha='right')\n",
    "\n",
    "# Show the plot\n",
    "plt.show()\n"
   ]
  },
  {
   "cell_type": "code",
   "execution_count": 17,
   "metadata": {},
   "outputs": [
    {
     "data": {
      "text/plain": [
       "emotion_in_tweet_is_directed_at\n",
       "iPad                               943\n",
       "Apple                              659\n",
       "iPad or iPhone App                 469\n",
       "Google                             428\n",
       "iPhone                             296\n",
       "Other Google product or service    293\n",
       "Android App                         80\n",
       "Android                             77\n",
       "Other Apple product or service      35\n",
       "Name: count, dtype: int64"
      ]
     },
     "execution_count": 17,
     "metadata": {},
     "output_type": "execute_result"
    }
   ],
   "source": [
    "df['emotion_in_tweet_is_directed_at'].value_counts()"
   ]
  },
  {
   "cell_type": "code",
   "execution_count": 18,
   "metadata": {},
   "outputs": [
    {
     "name": "stdout",
     "output_type": "stream",
     "text": [
      "brand\n",
      "Apple     2402\n",
      "Google     585\n",
      "Name: count, dtype: int64\n"
     ]
    }
   ],
   "source": [
    "# Import necessary libraries\n",
    "import pandas as pd\n",
    "\n",
    "# Assuming df is your DataFrame\n",
    "df['brand'] = df['emotion_in_tweet_is_directed_at'].map({\n",
    "    'iPad': 'Apple',\n",
    "    'Apple': 'Apple',\n",
    "    'iPad or iPhone App': 'Apple',\n",
    "    'iPhone': 'Apple',\n",
    "    'Other Apple product or service': 'Apple',\n",
    "    'Google': 'Google',\n",
    "    'Android App': 'Google',\n",
    "    'Android': 'Google'\n",
    "})\n",
    "\n",
    "# Verify the changes\n",
    "print(df['brand'].value_counts())\n"
   ]
  },
  {
   "cell_type": "code",
   "execution_count": 19,
   "metadata": {},
   "outputs": [
    {
     "data": {
      "image/png": "[encoded data removed]",
      "text/plain": [
       "<Figure size 1000x600 with 1 Axes>"
      ]
     },
     "metadata": {},
     "output_type": "display_data"
    }
   ],
   "source": [
    "import seaborn as sns\n",
    "import matplotlib.pyplot as plt\n",
    "\n",
    "# Assuming df is your DataFrame\n",
    "\n",
    "# Create a bar plot\n",
    "plt.figure(figsize=(10, 6))\n",
    "sns.countplot(x='brand', hue='is_there_an_emotion_directed_at_a_brand_or_product', data=df)\n",
    "\n",
    "# Add labels and title\n",
    "plt.xlabel('Brand')\n",
    "plt.ylabel('Count')\n",
    "plt.title('Emotion Distribution by Brand')\n",
    "\n",
    "# Show the plot\n",
    "plt.show()\n"
   ]
  },
  {
   "cell_type": "markdown",
   "metadata": {},
   "source": [
    "Analysing the most common hashtags."
   ]
  },
  {
   "cell_type": "code",
   "execution_count": 20,
   "metadata": {},
   "outputs": [
    {
     "data": {
      "image/png": "[encoded data removed]",
      "text/plain": [
       "<Figure size 1000x600 with 1 Axes>"
      ]
     },
     "metadata": {},
     "output_type": "display_data"
    }
   ],
   "source": [
    "# Example DataFrame\n",
    "hashtags_df = pd.DataFrame()\n",
    "\n",
    "# Split the hashtags into a list\n",
    "hashtags_df['hashtags_list'] = df['hashtags'].str.split(',')\n",
    "\n",
    "# Flatten the list of hashtags\n",
    "flat_hashtags_list = [item for sublist in hashtags_df['hashtags_list'] for item in sublist]\n",
    "\n",
    "# Create a Series to count the occurrences of each hashtag\n",
    "hashtags_counts = pd.Series(flat_hashtags_list).value_counts()\n",
    "\n",
    "# Select the top 10 hashtags\n",
    "top_10_hashtags = hashtags_counts.head(10)\n",
    "\n",
    "# Plot the word count for the top 10 hashtags\n",
    "plt.figure(figsize=(10, 6))\n",
    "sns.barplot(x=top_10_hashtags.values, y=top_10_hashtags.index, palette=\"viridis\")\n",
    "plt.title('Top 10 Most Used Hashtags')\n",
    "plt.xlabel('Count')\n",
    "plt.ylabel('Hashtags')\n",
    "plt.show()\n"
   ]
  },
  {
   "cell_type": "code",
   "execution_count": 21,
   "metadata": {},
   "outputs": [
    {
     "data": {
      "text/plain": [
       "is_there_an_emotion_directed_at_a_brand_or_product\n",
       "1    5528\n",
       "2    2968\n",
       "0     569\n",
       "Name: count, dtype: int64"
      ]
     },
     "execution_count": 21,
     "metadata": {},
     "output_type": "execute_result"
    }
   ],
   "source": [
    "from sklearn.preprocessing import LabelEncoder\n",
    "\n",
    "# Assuming df is your DataFrame and the column name is 'is_there_an_emotion_directed_at_a_brand_or_product'\n",
    "column_name = 'is_there_an_emotion_directed_at_a_brand_or_product'\n",
    "\n",
    "# Create a LabelEncoder object\n",
    "enc = LabelEncoder()\n",
    "\n",
    "# Fit and transform the specified column in the DataFrame\n",
    "df[column_name] = enc.fit_transform(df[column_name])\n",
    "\n",
    "df['is_there_an_emotion_directed_at_a_brand_or_product'].value_counts()"
   ]
  },
  {
   "cell_type": "markdown",
   "metadata": {},
   "source": [
    "### Data Preprocessing\n",
    "Most of the crucial steps like removing links and hashtags as well as special characters was performed in the data cleaning process.\n",
    "\n",
    "However although the text we have remained with is \"cleaned\". Some preprocessing can be added to enable our model to become better.\n",
    "\n",
    "In this section we will attempt to remove stop words and non English words."
   ]
  },
  {
   "cell_type": "code",
   "execution_count": 22,
   "metadata": {},
   "outputs": [
    {
     "data": {
      "text/html": [
       "<div>\n",
       "<style scoped>\n",
       "    .dataframe tbody tr th:only-of-type {\n",
       "        vertical-align: middle;\n",
       "    }\n",
       "\n",
       "    .dataframe tbody tr th {\n",
       "        vertical-align: top;\n",
       "    }\n",
       "\n",
       "    .dataframe thead th {\n",
       "        text-align: right;\n",
       "    }\n",
       "</style>\n",
       "<table border=\"1\" class=\"dataframe\">\n",
       "  <thead>\n",
       "    <tr style=\"text-align: right;\">\n",
       "      <th></th>\n",
       "      <th>tweet_text</th>\n",
       "      <th>emotion_in_tweet_is_directed_at</th>\n",
       "      <th>is_there_an_emotion_directed_at_a_brand_or_product</th>\n",
       "      <th>clean_text</th>\n",
       "      <th>hashtags</th>\n",
       "      <th>brand</th>\n",
       "    </tr>\n",
       "  </thead>\n",
       "  <tbody>\n",
       "    <tr>\n",
       "      <th>0</th>\n",
       "      <td>.@wesley83 I have a 3G iPhone. After 3 hrs twe...</td>\n",
       "      <td>iPhone</td>\n",
       "      <td>0</td>\n",
       "      <td>G iPhone hrs tweeting RISEAustin dead need upg...</td>\n",
       "      <td>rise_austin,sxsw,</td>\n",
       "      <td>Apple</td>\n",
       "    </tr>\n",
       "    <tr>\n",
       "      <th>1</th>\n",
       "      <td>@jessedee Know about @fludapp ? Awesome iPad/i...</td>\n",
       "      <td>iPad or iPhone App</td>\n",
       "      <td>2</td>\n",
       "      <td>Know Awesome iPadiPhone app youll likely appre...</td>\n",
       "      <td>sxsw,</td>\n",
       "      <td>Apple</td>\n",
       "    </tr>\n",
       "    <tr>\n",
       "      <th>2</th>\n",
       "      <td>@swonderlin Can not wait for #iPad 2 also. The...</td>\n",
       "      <td>iPad</td>\n",
       "      <td>2</td>\n",
       "      <td>wait iPad also sale SXSW</td>\n",
       "      <td>ipad,sxsw,</td>\n",
       "      <td>Apple</td>\n",
       "    </tr>\n",
       "    <tr>\n",
       "      <th>3</th>\n",
       "      <td>@sxsw I hope this year's festival isn't as cra...</td>\n",
       "      <td>iPad or iPhone App</td>\n",
       "      <td>0</td>\n",
       "      <td>hope years festival isnt crashy years iPhone a...</td>\n",
       "      <td>sxsw,</td>\n",
       "      <td>Apple</td>\n",
       "    </tr>\n",
       "    <tr>\n",
       "      <th>4</th>\n",
       "      <td>@sxtxstate great stuff on Fri #SXSW: Marissa M...</td>\n",
       "      <td>Google</td>\n",
       "      <td>2</td>\n",
       "      <td>great stuff Fri SXSW Marissa Mayer Google Tim ...</td>\n",
       "      <td>sxsw,</td>\n",
       "      <td>Google</td>\n",
       "    </tr>\n",
       "  </tbody>\n",
       "</table>\n",
       "</div>"
      ],
      "text/plain": [
       "                                          tweet_text  \\\n",
       "0  .@wesley83 I have a 3G iPhone. After 3 hrs twe...   \n",
       "1  @jessedee Know about @fludapp ? Awesome iPad/i...   \n",
       "2  @swonderlin Can not wait for #iPad 2 also. The...   \n",
       "3  @sxsw I hope this year's festival isn't as cra...   \n",
       "4  @sxtxstate great stuff on Fri #SXSW: Marissa M...   \n",
       "\n",
       "  emotion_in_tweet_is_directed_at  \\\n",
       "0                          iPhone   \n",
       "1              iPad or iPhone App   \n",
       "2                            iPad   \n",
       "3              iPad or iPhone App   \n",
       "4                          Google   \n",
       "\n",
       "   is_there_an_emotion_directed_at_a_brand_or_product  \\\n",
       "0                                                  0    \n",
       "1                                                  2    \n",
       "2                                                  2    \n",
       "3                                                  0    \n",
       "4                                                  2    \n",
       "\n",
       "                                          clean_text           hashtags  \\\n",
       "0  G iPhone hrs tweeting RISEAustin dead need upg...  rise_austin,sxsw,   \n",
       "1  Know Awesome iPadiPhone app youll likely appre...              sxsw,   \n",
       "2                           wait iPad also sale SXSW         ipad,sxsw,   \n",
       "3  hope years festival isnt crashy years iPhone a...              sxsw,   \n",
       "4  great stuff Fri SXSW Marissa Mayer Google Tim ...              sxsw,   \n",
       "\n",
       "    brand  \n",
       "0   Apple  \n",
       "1   Apple  \n",
       "2   Apple  \n",
       "3   Apple  \n",
       "4  Google  "
      ]
     },
     "execution_count": 22,
     "metadata": {},
     "output_type": "execute_result"
    }
   ],
   "source": [
    "# Load the stop words\n",
    "stop_words = set(stopwords.words('english'))\n",
    "\n",
    "# Assuming df is your DataFrame and 'clean_text' is the column containing the tweets\n",
    "df['clean_text'] = df['clean_text'].apply(lambda x: ' '.join([word for word in x.split() if word.lower() not in stop_words]))\n",
    "df.head()"
   ]
  },
  {
   "cell_type": "code",
   "execution_count": 23,
   "metadata": {},
   "outputs": [
    {
     "data": {
      "text/html": [
       "<div>\n",
       "<style scoped>\n",
       "    .dataframe tbody tr th:only-of-type {\n",
       "        vertical-align: middle;\n",
       "    }\n",
       "\n",
       "    .dataframe tbody tr th {\n",
       "        vertical-align: top;\n",
       "    }\n",
       "\n",
       "    .dataframe thead th {\n",
       "        text-align: right;\n",
       "    }\n",
       "</style>\n",
       "<table border=\"1\" class=\"dataframe\">\n",
       "  <thead>\n",
       "    <tr style=\"text-align: right;\">\n",
       "      <th></th>\n",
       "      <th>tweet_text</th>\n",
       "      <th>emotion_in_tweet_is_directed_at</th>\n",
       "      <th>is_there_an_emotion_directed_at_a_brand_or_product</th>\n",
       "      <th>clean_text</th>\n",
       "      <th>hashtags</th>\n",
       "      <th>brand</th>\n",
       "    </tr>\n",
       "  </thead>\n",
       "  <tbody>\n",
       "    <tr>\n",
       "      <th>0</th>\n",
       "      <td>.@wesley83 I have a 3G iPhone. After 3 hrs twe...</td>\n",
       "      <td>iPhone</td>\n",
       "      <td>0</td>\n",
       "      <td>G dead need upgrade</td>\n",
       "      <td>rise_austin,sxsw,</td>\n",
       "      <td>Apple</td>\n",
       "    </tr>\n",
       "    <tr>\n",
       "      <th>1</th>\n",
       "      <td>@jessedee Know about @fludapp ? Awesome iPad/i...</td>\n",
       "      <td>iPad or iPhone App</td>\n",
       "      <td>2</td>\n",
       "      <td>Know Awesome likely appreciate design Also the...</td>\n",
       "      <td>sxsw,</td>\n",
       "      <td>Apple</td>\n",
       "    </tr>\n",
       "    <tr>\n",
       "      <th>2</th>\n",
       "      <td>@swonderlin Can not wait for #iPad 2 also. The...</td>\n",
       "      <td>iPad</td>\n",
       "      <td>2</td>\n",
       "      <td>wait also sale</td>\n",
       "      <td>ipad,sxsw,</td>\n",
       "      <td>Apple</td>\n",
       "    </tr>\n",
       "    <tr>\n",
       "      <th>3</th>\n",
       "      <td>@sxsw I hope this year's festival isn't as cra...</td>\n",
       "      <td>iPad or iPhone App</td>\n",
       "      <td>0</td>\n",
       "      <td>hope festival</td>\n",
       "      <td>sxsw,</td>\n",
       "      <td>Apple</td>\n",
       "    </tr>\n",
       "    <tr>\n",
       "      <th>4</th>\n",
       "      <td>@sxtxstate great stuff on Fri #SXSW: Marissa M...</td>\n",
       "      <td>Google</td>\n",
       "      <td>2</td>\n",
       "      <td>great stuff tech</td>\n",
       "      <td>sxsw,</td>\n",
       "      <td>Google</td>\n",
       "    </tr>\n",
       "  </tbody>\n",
       "</table>\n",
       "</div>"
      ],
      "text/plain": [
       "                                          tweet_text  \\\n",
       "0  .@wesley83 I have a 3G iPhone. After 3 hrs twe...   \n",
       "1  @jessedee Know about @fludapp ? Awesome iPad/i...   \n",
       "2  @swonderlin Can not wait for #iPad 2 also. The...   \n",
       "3  @sxsw I hope this year's festival isn't as cra...   \n",
       "4  @sxtxstate great stuff on Fri #SXSW: Marissa M...   \n",
       "\n",
       "  emotion_in_tweet_is_directed_at  \\\n",
       "0                          iPhone   \n",
       "1              iPad or iPhone App   \n",
       "2                            iPad   \n",
       "3              iPad or iPhone App   \n",
       "4                          Google   \n",
       "\n",
       "   is_there_an_emotion_directed_at_a_brand_or_product  \\\n",
       "0                                                  0    \n",
       "1                                                  2    \n",
       "2                                                  2    \n",
       "3                                                  0    \n",
       "4                                                  2    \n",
       "\n",
       "                                          clean_text           hashtags  \\\n",
       "0                                G dead need upgrade  rise_austin,sxsw,   \n",
       "1  Know Awesome likely appreciate design Also the...              sxsw,   \n",
       "2                                     wait also sale         ipad,sxsw,   \n",
       "3                                      hope festival              sxsw,   \n",
       "4                                   great stuff tech              sxsw,   \n",
       "\n",
       "    brand  \n",
       "0   Apple  \n",
       "1   Apple  \n",
       "2   Apple  \n",
       "3   Apple  \n",
       "4  Google  "
      ]
     },
     "execution_count": 23,
     "metadata": {},
     "output_type": "execute_result"
    }
   ],
   "source": [
    "# Load the stop words and English words set\n",
    "stop_words = set(stopwords.words('english'))\n",
    "english_words = set(words.words())\n",
    "\n",
    "# Assuming df is your DataFrame and 'clean_text' is the column containing the tweets\n",
    "df['clean_text'] = df['clean_text'].apply(lambda x: ' '.join([word for word in x.split() if word.lower() not in stop_words and word.lower() in english_words]))\n",
    "\n",
    "df.head()"
   ]
  },
  {
   "cell_type": "markdown",
   "metadata": {},
   "source": [
    "### Data Modelling."
   ]
  },
  {
   "cell_type": "markdown",
   "metadata": {},
   "source": [
    "#### Base Model"
   ]
  },
  {
   "cell_type": "code",
   "execution_count": 24,
   "metadata": {},
   "outputs": [],
   "source": [
    "# Assuming 0 is positive and 2 is negative\n",
    "binary_df = df[df['is_there_an_emotion_directed_at_a_brand_or_product'].isin([0, 2])].copy()\n",
    "\n",
    "# Map 0 to negative and 1 to positive\n",
    "binary_df['is_there_an_emotion_directed_at_a_brand_or_product'] = binary_df['is_there_an_emotion_directed_at_a_brand_or_product'].map({0: 1, 2: 0})"
   ]
  },
  {
   "cell_type": "code",
   "execution_count": 25,
   "metadata": {},
   "outputs": [],
   "source": [
    "from sklearn.model_selection import train_test_split\n",
    "\n",
    "X_train, X_test, y_train, y_test = train_test_split(binary_df['clean_text'], binary_df['is_there_an_emotion_directed_at_a_brand_or_product'], test_size=0.2, random_state=42)\n"
   ]
  },
  {
   "cell_type": "code",
   "execution_count": 26,
   "metadata": {},
   "outputs": [],
   "source": [
    "from sklearn.feature_extraction.text import TfidfVectorizer\n",
    "\n",
    "vectorizer = TfidfVectorizer(max_features=5000, stop_words='english')\n",
    "X_train_vec = vectorizer.fit_transform(X_train)\n",
    "X_test_vec = vectorizer.transform(X_test)\n"
   ]
  },
  {
   "cell_type": "code",
   "execution_count": 27,
   "metadata": {},
   "outputs": [],
   "source": [
    "from sklearn.linear_model import LogisticRegression\n",
    "\n",
    "classifier = LogisticRegression()\n"
   ]
  },
  {
   "cell_type": "code",
   "execution_count": 28,
   "metadata": {},
   "outputs": [
    {
     "data": {
      "text/html": [
       "<style>#sk-container-id-1 {color: black;}#sk-container-id-1 pre{padding: 0;}#sk-container-id-1 div.sk-toggleable {background-color: white;}#sk-container-id-1 label.sk-toggleable__label {cursor: pointer;display: block;width: 100%;margin-bottom: 0;padding: 0.3em;box-sizing: border-box;text-align: center;}#sk-container-id-1 label.sk-toggleable__label-arrow:before {content: \"▸\";float: left;margin-right: 0.25em;color: #696969;}#sk-container-id-1 label.sk-toggleable__label-arrow:hover:before {color: black;}#sk-container-id-1 div.sk-estimator:hover label.sk-toggleable__label-arrow:before {color: black;}#sk-container-id-1 div.sk-toggleable__content {max-height: 0;max-width: 0;overflow: hidden;text-align: left;background-color: #f0f8ff;}#sk-container-id-1 div.sk-toggleable__content pre {margin: 0.2em;color: black;border-radius: 0.25em;background-color: #f0f8ff;}#sk-container-id-1 input.sk-toggleable__control:checked~div.sk-toggleable__content {max-height: 200px;max-width: 100%;overflow: auto;}#sk-container-id-1 input.sk-toggleable__control:checked~label.sk-toggleable__label-arrow:before {content: \"▾\";}#sk-container-id-1 div.sk-estimator input.sk-toggleable__control:checked~label.sk-toggleable__label {background-color: #d4ebff;}#sk-container-id-1 div.sk-label input.sk-toggleable__control:checked~label.sk-toggleable__label {background-color: #d4ebff;}#sk-container-id-1 input.sk-hidden--visually {border: 0;clip: rect(1px 1px 1px 1px);clip: rect(1px, 1px, 1px, 1px);height: 1px;margin: -1px;overflow: hidden;padding: 0;position: absolute;width: 1px;}#sk-container-id-1 div.sk-estimator {font-family: monospace;background-color: #f0f8ff;border: 1px dotted black;border-radius: 0.25em;box-sizing: border-box;margin-bottom: 0.5em;}#sk-container-id-1 div.sk-estimator:hover {background-color: #d4ebff;}#sk-container-id-1 div.sk-parallel-item::after {content: \"\";width: 100%;border-bottom: 1px solid gray;flex-grow: 1;}#sk-container-id-1 div.sk-label:hover label.sk-toggleable__label {background-color: #d4ebff;}#sk-container-id-1 div.sk-serial::before {content: \"\";position: absolute;border-left: 1px solid gray;box-sizing: border-box;top: 0;bottom: 0;left: 50%;z-index: 0;}#sk-container-id-1 div.sk-serial {display: flex;flex-direction: column;align-items: center;background-color: white;padding-right: 0.2em;padding-left: 0.2em;position: relative;}#sk-container-id-1 div.sk-item {position: relative;z-index: 1;}#sk-container-id-1 div.sk-parallel {display: flex;align-items: stretch;justify-content: center;background-color: white;position: relative;}#sk-container-id-1 div.sk-item::before, #sk-container-id-1 div.sk-parallel-item::before {content: \"\";position: absolute;border-left: 1px solid gray;box-sizing: border-box;top: 0;bottom: 0;left: 50%;z-index: -1;}#sk-container-id-1 div.sk-parallel-item {display: flex;flex-direction: column;z-index: 1;position: relative;background-color: white;}#sk-container-id-1 div.sk-parallel-item:first-child::after {align-self: flex-end;width: 50%;}#sk-container-id-1 div.sk-parallel-item:last-child::after {align-self: flex-start;width: 50%;}#sk-container-id-1 div.sk-parallel-item:only-child::after {width: 0;}#sk-container-id-1 div.sk-dashed-wrapped {border: 1px dashed gray;margin: 0 0.4em 0.5em 0.4em;box-sizing: border-box;padding-bottom: 0.4em;background-color: white;}#sk-container-id-1 div.sk-label label {font-family: monospace;font-weight: bold;display: inline-block;line-height: 1.2em;}#sk-container-id-1 div.sk-label-container {text-align: center;}#sk-container-id-1 div.sk-container {/* jupyter's `normalize.less` sets `[hidden] { display: none; }` but bootstrap.min.css set `[hidden] { display: none !important; }` so we also need the `!important` here to be able to override the default hidden behavior on the sphinx rendered scikit-learn.org. See: https://github.com/scikit-learn/scikit-learn/issues/21755 */display: inline-block !important;position: relative;}#sk-container-id-1 div.sk-text-repr-fallback {display: none;}</style><div id=\"sk-container-id-1\" class=\"sk-top-container\"><div class=\"sk-text-repr-fallback\"><pre>LogisticRegression()</pre><b>In a Jupyter environment, please rerun this cell to show the HTML representation or trust the notebook. <br />On GitHub, the HTML representation is unable to render, please try loading this page with nbviewer.org.</b></div><div class=\"sk-container\" hidden><div class=\"sk-item\"><div class=\"sk-estimator sk-toggleable\"><input class=\"sk-toggleable__control sk-hidden--visually\" id=\"sk-estimator-id-1\" type=\"checkbox\" checked><label for=\"sk-estimator-id-1\" class=\"sk-toggleable__label sk-toggleable__label-arrow\">LogisticRegression</label><div class=\"sk-toggleable__content\"><pre>LogisticRegression()</pre></div></div></div></div></div>"
      ],
      "text/plain": [
       "LogisticRegression()"
      ]
     },
     "execution_count": 28,
     "metadata": {},
     "output_type": "execute_result"
    }
   ],
   "source": [
    "classifier.fit(X_train_vec, y_train)\n"
   ]
  },
  {
   "cell_type": "code",
   "execution_count": 29,
   "metadata": {},
   "outputs": [],
   "source": [
    "predictions = classifier.predict(X_test_vec)\n"
   ]
  },
  {
   "cell_type": "code",
   "execution_count": 30,
   "metadata": {},
   "outputs": [
    {
     "name": "stdout",
     "output_type": "stream",
     "text": [
      "Accuracy: 0.8559322033898306\n",
      "Classification Report:\n",
      "               precision    recall  f1-score   support\n",
      "\n",
      "           0       0.85      1.00      0.92       595\n",
      "           1       0.92      0.11      0.19       113\n",
      "\n",
      "    accuracy                           0.86       708\n",
      "   macro avg       0.89      0.55      0.56       708\n",
      "weighted avg       0.87      0.86      0.80       708\n",
      "\n"
     ]
    }
   ],
   "source": [
    "from sklearn.metrics import accuracy_score, classification_report\n",
    "\n",
    "accuracy = accuracy_score(y_test, predictions)\n",
    "report = classification_report(y_test, predictions)\n",
    "\n",
    "print(f\"Accuracy: {accuracy}\")\n",
    "print(\"Classification Report:\\n\", report)\n"
   ]
  },
  {
   "cell_type": "markdown",
   "metadata": {},
   "source": [
    "The provided results pertain to a classification model's performance, with an overall accuracy of 85.31%. The classification report provides more detailed insights into the model's effectiveness by breaking down its performance across different classes. The model appears to perform well on the majority class (0), achieving a precision of 85% and recall of 100%, resulting in a high F1-score of 92%. However, the model struggles with the minority class (1), as reflected by a lower precision of 91%, low recall of 9%, and a consequently low F1-score of 16%. The weighted average F1-score across both classes is 80%, indicating a reasonable overall model performance. The macro-average F1-score, which gives equal weight to both classes, is 54%, suggesting imbalances in performance between the two classes. In summary, while the model exhibits good accuracy, its effectiveness varies significantly between the majority and minority classes, warranting attention to potential class imbalance issues or the need for targeted improvements in handling the minority class."
   ]
  },
  {
   "cell_type": "markdown",
   "metadata": {},
   "source": [
    "#### Multiclass Model"
   ]
  },
  {
   "cell_type": "markdown",
   "metadata": {},
   "source": [
    "Though the baseline model is okay. Improvements can be made. As an example creating a multiclass model that can incorporate the neutral class as well. This might yield better results."
   ]
  },
  {
   "cell_type": "code",
   "execution_count": 32,
   "metadata": {},
   "outputs": [
    {
     "name": "stdout",
     "output_type": "stream",
     "text": [
      "brand\n",
      "2    6078\n",
      "0    2402\n",
      "1     585\n",
      "Name: count, dtype: int64\n",
      "is_there_an_emotion_directed_at_a_brand_or_product\n",
      "1    5528\n",
      "2    2968\n",
      "0     569\n",
      "Name: count, dtype: int64\n"
     ]
    }
   ],
   "source": [
    "from sklearn.preprocessing import LabelEncoder\n",
    "# Create a LabelEncoder object\n",
    "enc = LabelEncoder()\n",
    "\n",
    "# Fit and transform the specified column in the DataFrame\n",
    "df['is_there_an_emotion_directed_at_a_brand_or_product'] = enc.fit_transform(df['is_there_an_emotion_directed_at_a_brand_or_product'])\n",
    "df['brand'] = enc.fit_transform(df['brand'])\n",
    "df['emotion_in_tweet_is_directed_at'] = enc.fit_transform(df['emotion_in_tweet_is_directed_at'])\n",
    "\n",
    "print(df['brand'].value_counts())\n",
    "print(df['is_there_an_emotion_directed_at_a_brand_or_product'].value_counts())"
   ]
  },
  {
   "cell_type": "code",
   "execution_count": 33,
   "metadata": {},
   "outputs": [
    {
     "name": "stdout",
     "output_type": "stream",
     "text": [
      "Cross-validation scores: [0.89248794 0.89524466 0.89034483 0.89310345 0.89103448]\n",
      "Test set accuracy: 0.8924434638720353\n"
     ]
    }
   ],
   "source": [
    "# Import necessary libraries\n",
    "from sklearn.model_selection import cross_val_score\n",
    "from sklearn.linear_model import LogisticRegression\n",
    "from sklearn.model_selection import train_test_split\n",
    "\n",
    "# Separate features and target variable and dropping irrelevant columns\n",
    "X = df.drop(['tweet_text', 'clean_text', 'is_there_an_emotion_directed_at_a_brand_or_product', 'hashtags'], axis=1)\n",
    "y = df['is_there_an_emotion_directed_at_a_brand_or_product']\n",
    "\n",
    "# Split the data into training and testing sets\n",
    "X_train, X_test, y_train, y_test = train_test_split(X, y, test_size=0.2, random_state=42)\n",
    "\n",
    "# Initialize a logistic regression model\n",
    "logreg_model = LogisticRegression()\n",
    "\n",
    "# Fit the model using cross-validation\n",
    "cross_val_scores = cross_val_score(logreg_model, X_train, y_train, cv=5)  # You can adjust the number of folds (cv) as needed\n",
    "\n",
    "# Print the cross-validation scores\n",
    "print(\"Cross-validation scores:\", cross_val_scores)\n",
    "\n",
    "# Fit the model on the training data\n",
    "logreg_model.fit(X_train, y_train)\n",
    "\n",
    "# Evaluate the model on the test data\n",
    "accuracy = logreg_model.score(X_test, y_test)\n",
    "print(\"Test set accuracy:\", accuracy)\n"
   ]
  },
  {
   "cell_type": "code",
   "execution_count": null,
   "metadata": {},
   "outputs": [],
   "source": [
    "vectorizer = TfidfVectorizer(max_features=5000, stop_words='english')\n",
    "X_train_vec = vectorizer.fit_transform(X_train)\n",
    "X_test_vec = vectorizer.transform(X_test)"
   ]
  },
  {
   "cell_type": "code",
   "execution_count": null,
   "metadata": {},
   "outputs": [],
   "source": [
    "classifier = SVC(kernel='linear', C=1.0)"
   ]
  },
  {
   "cell_type": "code",
   "execution_count": null,
   "metadata": {},
   "outputs": [
    {
     "data": {
      "text/html": [
       "<style>#sk-container-id-7 {color: black;}#sk-container-id-7 pre{padding: 0;}#sk-container-id-7 div.sk-toggleable {background-color: white;}#sk-container-id-7 label.sk-toggleable__label {cursor: pointer;display: block;width: 100%;margin-bottom: 0;padding: 0.3em;box-sizing: border-box;text-align: center;}#sk-container-id-7 label.sk-toggleable__label-arrow:before {content: \"▸\";float: left;margin-right: 0.25em;color: #696969;}#sk-container-id-7 label.sk-toggleable__label-arrow:hover:before {color: black;}#sk-container-id-7 div.sk-estimator:hover label.sk-toggleable__label-arrow:before {color: black;}#sk-container-id-7 div.sk-toggleable__content {max-height: 0;max-width: 0;overflow: hidden;text-align: left;background-color: #f0f8ff;}#sk-container-id-7 div.sk-toggleable__content pre {margin: 0.2em;color: black;border-radius: 0.25em;background-color: #f0f8ff;}#sk-container-id-7 input.sk-toggleable__control:checked~div.sk-toggleable__content {max-height: 200px;max-width: 100%;overflow: auto;}#sk-container-id-7 input.sk-toggleable__control:checked~label.sk-toggleable__label-arrow:before {content: \"▾\";}#sk-container-id-7 div.sk-estimator input.sk-toggleable__control:checked~label.sk-toggleable__label {background-color: #d4ebff;}#sk-container-id-7 div.sk-label input.sk-toggleable__control:checked~label.sk-toggleable__label {background-color: #d4ebff;}#sk-container-id-7 input.sk-hidden--visually {border: 0;clip: rect(1px 1px 1px 1px);clip: rect(1px, 1px, 1px, 1px);height: 1px;margin: -1px;overflow: hidden;padding: 0;position: absolute;width: 1px;}#sk-container-id-7 div.sk-estimator {font-family: monospace;background-color: #f0f8ff;border: 1px dotted black;border-radius: 0.25em;box-sizing: border-box;margin-bottom: 0.5em;}#sk-container-id-7 div.sk-estimator:hover {background-color: #d4ebff;}#sk-container-id-7 div.sk-parallel-item::after {content: \"\";width: 100%;border-bottom: 1px solid gray;flex-grow: 1;}#sk-container-id-7 div.sk-label:hover label.sk-toggleable__label {background-color: #d4ebff;}#sk-container-id-7 div.sk-serial::before {content: \"\";position: absolute;border-left: 1px solid gray;box-sizing: border-box;top: 0;bottom: 0;left: 50%;z-index: 0;}#sk-container-id-7 div.sk-serial {display: flex;flex-direction: column;align-items: center;background-color: white;padding-right: 0.2em;padding-left: 0.2em;position: relative;}#sk-container-id-7 div.sk-item {position: relative;z-index: 1;}#sk-container-id-7 div.sk-parallel {display: flex;align-items: stretch;justify-content: center;background-color: white;position: relative;}#sk-container-id-7 div.sk-item::before, #sk-container-id-7 div.sk-parallel-item::before {content: \"\";position: absolute;border-left: 1px solid gray;box-sizing: border-box;top: 0;bottom: 0;left: 50%;z-index: -1;}#sk-container-id-7 div.sk-parallel-item {display: flex;flex-direction: column;z-index: 1;position: relative;background-color: white;}#sk-container-id-7 div.sk-parallel-item:first-child::after {align-self: flex-end;width: 50%;}#sk-container-id-7 div.sk-parallel-item:last-child::after {align-self: flex-start;width: 50%;}#sk-container-id-7 div.sk-parallel-item:only-child::after {width: 0;}#sk-container-id-7 div.sk-dashed-wrapped {border: 1px dashed gray;margin: 0 0.4em 0.5em 0.4em;box-sizing: border-box;padding-bottom: 0.4em;background-color: white;}#sk-container-id-7 div.sk-label label {font-family: monospace;font-weight: bold;display: inline-block;line-height: 1.2em;}#sk-container-id-7 div.sk-label-container {text-align: center;}#sk-container-id-7 div.sk-container {/* jupyter's `normalize.less` sets `[hidden] { display: none; }` but bootstrap.min.css set `[hidden] { display: none !important; }` so we also need the `!important` here to be able to override the default hidden behavior on the sphinx rendered scikit-learn.org. See: https://github.com/scikit-learn/scikit-learn/issues/21755 */display: inline-block !important;position: relative;}#sk-container-id-7 div.sk-text-repr-fallback {display: none;}</style><div id=\"sk-container-id-7\" class=\"sk-top-container\"><div class=\"sk-text-repr-fallback\"><pre>SVC(kernel=&#x27;linear&#x27;)</pre><b>In a Jupyter environment, please rerun this cell to show the HTML representation or trust the notebook. <br />On GitHub, the HTML representation is unable to render, please try loading this page with nbviewer.org.</b></div><div class=\"sk-container\" hidden><div class=\"sk-item\"><div class=\"sk-estimator sk-toggleable\"><input class=\"sk-toggleable__control sk-hidden--visually\" id=\"sk-estimator-id-7\" type=\"checkbox\" checked><label for=\"sk-estimator-id-7\" class=\"sk-toggleable__label sk-toggleable__label-arrow\">SVC</label><div class=\"sk-toggleable__content\"><pre>SVC(kernel=&#x27;linear&#x27;)</pre></div></div></div></div></div>"
      ],
      "text/plain": [
       "SVC(kernel='linear')"
      ]
     },
     "execution_count": 141,
     "metadata": {},
     "output_type": "execute_result"
    }
   ],
   "source": [
    "classifier.fit(X_train_vec, y_train)"
   ]
  },
  {
   "cell_type": "code",
   "execution_count": null,
   "metadata": {},
   "outputs": [],
   "source": [
    "predictions = classifier.predict(X_test_vec)"
   ]
  },
  {
   "cell_type": "code",
   "execution_count": null,
   "metadata": {},
   "outputs": [
    {
     "name": "stdout",
     "output_type": "stream",
     "text": [
      "Accuracy: 0.6729178157749587\n",
      "Classification Report:\n",
      "               precision    recall  f1-score   support\n",
      "\n",
      "           0       0.76      0.13      0.23       119\n",
      "           1       0.69      0.88      0.77      1112\n",
      "           2       0.61      0.39      0.47       582\n",
      "\n",
      "    accuracy                           0.67      1813\n",
      "   macro avg       0.69      0.47      0.49      1813\n",
      "weighted avg       0.67      0.67      0.64      1813\n",
      "\n"
     ]
    }
   ],
   "source": [
    "accuracy = accuracy_score(y_test, predictions)\n",
    "report = classification_report(y_test, predictions)\n",
    "\n",
    "print(f\"Accuracy: {accuracy}\")\n",
    "print(\"Classification Report:\\n\", report)"
   ]
  }
 ],
 "metadata": {
  "kernelspec": {
   "display_name": "Python 3",
   "language": "python",
   "name": "python3"
  },
  "language_info": {
   "codemirror_mode": {
    "name": "ipython",
    "version": 3
   },
   "file_extension": ".py",
   "mimetype": "text/x-python",
   "name": "python",
   "nbconvert_exporter": "python",
   "pygments_lexer": "ipython3",
   "version": "3.10.11"
  }
 },
 "nbformat": 4,
 "nbformat_minor": 2
}
